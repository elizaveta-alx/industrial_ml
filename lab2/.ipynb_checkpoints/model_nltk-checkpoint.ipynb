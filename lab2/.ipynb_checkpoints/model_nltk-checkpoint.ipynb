{
 "cells": [
  {
   "cell_type": "code",
   "execution_count": 33,
   "id": "405e6e49",
   "metadata": {},
   "outputs": [],
   "source": [
    "import pandas as pd\n",
    "import numpy as np\n",
    "import json\n",
    "import nltk\n",
    "import re\n",
    "import csv\n",
    "import matplotlib.pyplot as plt \n",
    "import seaborn as sns\n",
    "from tqdm import tqdm\n",
    "from sklearn.feature_extraction.text import TfidfVectorizer\n",
    "from sklearn.model_selection import train_test_split\n",
    "\n",
    "%matplotlib inline\n",
    "pd.set_option('display.max_colwidth', 300)"
   ]
  },
  {
   "cell_type": "code",
   "execution_count": 37,
   "id": "886e8eb6",
   "metadata": {},
   "outputs": [
    {
     "data": {
      "text/html": [
       "<div>\n",
       "<style scoped>\n",
       "    .dataframe tbody tr th:only-of-type {\n",
       "        vertical-align: middle;\n",
       "    }\n",
       "\n",
       "    .dataframe tbody tr th {\n",
       "        vertical-align: top;\n",
       "    }\n",
       "\n",
       "    .dataframe thead th {\n",
       "        text-align: right;\n",
       "    }\n",
       "</style>\n",
       "<table border=\"1\" class=\"dataframe\">\n",
       "  <thead>\n",
       "    <tr style=\"text-align: right;\">\n",
       "      <th></th>\n",
       "      <th>title</th>\n",
       "      <th>description</th>\n",
       "      <th>image</th>\n",
       "      <th>genre</th>\n",
       "      <th>movie_id</th>\n",
       "    </tr>\n",
       "  </thead>\n",
       "  <tbody>\n",
       "    <tr>\n",
       "      <th>0</th>\n",
       "      <td>Enola Holmes 2</td>\n",
       "      <td>Now a detective-for-hire, Enola Holmes takes on her first official case to find a missing girl as the sparks of a dangerous conspiracy ignite a mystery that requires the help of friends - and Sherlock himself - to unravel</td>\n",
       "      <td>https://m.media-amazon.com/images/M/MV5BMDI1NWM1ZDItNDFhMi00YWRhLTg1YzItNTNhY2M2N2QzY2FkXkEyXkFqcGdeQXVyMTEyMjM2NDc2.jpg</td>\n",
       "      <td>action</td>\n",
       "      <td>0</td>\n",
       "    </tr>\n",
       "    <tr>\n",
       "      <th>1</th>\n",
       "      <td>Bullet Train</td>\n",
       "      <td>Five assassins aboard a swiftly-moving bullet train find out that their missions have something in common.</td>\n",
       "      <td>https://m.media-amazon.com/images/M/MV5BMDU2ZmM2OTYtNzIxYy00NjM5LTliNGQtN2JmOWQzYTBmZWUzXkEyXkFqcGdeQXVyMTkxNjUyNQ@@.jpg</td>\n",
       "      <td>action</td>\n",
       "      <td>1</td>\n",
       "    </tr>\n",
       "    <tr>\n",
       "      <th>2</th>\n",
       "      <td>Everything Everywhere All at Once</td>\n",
       "      <td>An aging Chinese immigrant is swept up in an insane adventure, in which she alone can save the world by exploring other universes connecting with the lives she could have led.</td>\n",
       "      <td>https://m.media-amazon.com/images/M/MV5BYTdiOTIyZTQtNmQ1OS00NjZlLWIyMTgtYzk5Y2M3ZDVmMDk1XkEyXkFqcGdeQXVyMTAzMDg4NzU0.jpg</td>\n",
       "      <td>action</td>\n",
       "      <td>2</td>\n",
       "    </tr>\n",
       "    <tr>\n",
       "      <th>3</th>\n",
       "      <td>Kantara</td>\n",
       "      <td>It involves culture of Kambla and Bhootha Kola. A human and nature conflict where Shiva is a rebel who defends his village and nature. A death leads to war between villagers and evil forces. Will he able to regain peace in the village?</td>\n",
       "      <td>https://m.media-amazon.com/images/M/MV5BNjQyNGI5OWEtZjI1Yy00NDVjLWE4MTAtMzRlNzU1NzM2OGVkXkEyXkFqcGdeQXVyMTA1NzEzOTU1.jpg</td>\n",
       "      <td>action</td>\n",
       "      <td>3</td>\n",
       "    </tr>\n",
       "    <tr>\n",
       "      <th>4</th>\n",
       "      <td>Thor: Love and Thunder</td>\n",
       "      <td>Thor enlists the help of Valkyrie, Korg and ex-girlfriend Jane Foster to fight Gorr the God Butcher, who intends to make the gods extinct.</td>\n",
       "      <td>https://m.media-amazon.com/images/M/MV5BYmMxZWRiMTgtZjM0Ny00NDQxLWIxYWQtZDdlNDNkOTEzYTdlXkEyXkFqcGdeQXVyMTkxNjUyNQ@@.jpg</td>\n",
       "      <td>action</td>\n",
       "      <td>4</td>\n",
       "    </tr>\n",
       "  </tbody>\n",
       "</table>\n",
       "</div>"
      ],
      "text/plain": [
       "                               title  \\\n",
       "0                     Enola Holmes 2   \n",
       "1                       Bullet Train   \n",
       "2  Everything Everywhere All at Once   \n",
       "3                            Kantara   \n",
       "4             Thor: Love and Thunder   \n",
       "\n",
       "                                                                                                                                                                                                                                   description  \\\n",
       "0                Now a detective-for-hire, Enola Holmes takes on her first official case to find a missing girl as the sparks of a dangerous conspiracy ignite a mystery that requires the help of friends - and Sherlock himself - to unravel   \n",
       "1                                                                                                                                   Five assassins aboard a swiftly-moving bullet train find out that their missions have something in common.   \n",
       "2                                                              An aging Chinese immigrant is swept up in an insane adventure, in which she alone can save the world by exploring other universes connecting with the lives she could have led.   \n",
       "3  It involves culture of Kambla and Bhootha Kola. A human and nature conflict where Shiva is a rebel who defends his village and nature. A death leads to war between villagers and evil forces. Will he able to regain peace in the village?   \n",
       "4                                                                                                   Thor enlists the help of Valkyrie, Korg and ex-girlfriend Jane Foster to fight Gorr the God Butcher, who intends to make the gods extinct.   \n",
       "\n",
       "                                                                                                                      image  \\\n",
       "0  https://m.media-amazon.com/images/M/MV5BMDI1NWM1ZDItNDFhMi00YWRhLTg1YzItNTNhY2M2N2QzY2FkXkEyXkFqcGdeQXVyMTEyMjM2NDc2.jpg   \n",
       "1  https://m.media-amazon.com/images/M/MV5BMDU2ZmM2OTYtNzIxYy00NjM5LTliNGQtN2JmOWQzYTBmZWUzXkEyXkFqcGdeQXVyMTkxNjUyNQ@@.jpg   \n",
       "2  https://m.media-amazon.com/images/M/MV5BYTdiOTIyZTQtNmQ1OS00NjZlLWIyMTgtYzk5Y2M3ZDVmMDk1XkEyXkFqcGdeQXVyMTAzMDg4NzU0.jpg   \n",
       "3  https://m.media-amazon.com/images/M/MV5BNjQyNGI5OWEtZjI1Yy00NDVjLWE4MTAtMzRlNzU1NzM2OGVkXkEyXkFqcGdeQXVyMTA1NzEzOTU1.jpg   \n",
       "4  https://m.media-amazon.com/images/M/MV5BYmMxZWRiMTgtZjM0Ny00NDQxLWIxYWQtZDdlNDNkOTEzYTdlXkEyXkFqcGdeQXVyMTkxNjUyNQ@@.jpg   \n",
       "\n",
       "    genre  movie_id  \n",
       "0  action         0  \n",
       "1  action         1  \n",
       "2  action         2  \n",
       "3  action         3  \n",
       "4  action         4  "
      ]
     },
     "execution_count": 37,
     "metadata": {},
     "output_type": "execute_result"
    }
   ],
   "source": [
    "data = pd.read_csv('movie_data.csv')\n",
    "data['movie_id']=data.index\n",
    "data.head(5)"
   ]
  },
  {
   "cell_type": "code",
   "execution_count": 38,
   "id": "ec63ac68",
   "metadata": {},
   "outputs": [],
   "source": [
    "# function for text cleaning \n",
    "def clean_text(text):\n",
    "    # remove backslash-apostrophe \n",
    "    text = re.sub(\"\\'\", \"\", text) \n",
    "    # remove everything except alphabets \n",
    "    text = re.sub(\"[^a-zA-Z]\",\" \",text) \n",
    "    # remove whitespaces \n",
    "    text = ' '.join(text.split()) \n",
    "    # convert text to lowercase \n",
    "    text = text.lower() \n",
    "    \n",
    "    return text\n",
    "\n",
    "from nltk.corpus import stopwords\n",
    "stop_words = set(stopwords.words('english'))\n",
    "\n",
    "# function to remove stopwords\n",
    "def remove_stopwords(text):\n",
    "    no_stopword_text = [w for w in text.split() if not w in stop_words]\n",
    "    return ' '.join(no_stopword_text)"
   ]
  },
  {
   "cell_type": "code",
   "execution_count": 39,
   "id": "dcfafc97",
   "metadata": {},
   "outputs": [],
   "source": [
    "data['description'] = data['description'].apply(lambda x: clean_text(x))\n",
    "data['description'] = data['description'].apply(lambda x: remove_stopwords(x))"
   ]
  },
  {
   "cell_type": "code",
   "execution_count": 41,
   "id": "3adbdd82",
   "metadata": {},
   "outputs": [
    {
     "data": {
      "text/html": [
       "<div>\n",
       "<style scoped>\n",
       "    .dataframe tbody tr th:only-of-type {\n",
       "        vertical-align: middle;\n",
       "    }\n",
       "\n",
       "    .dataframe tbody tr th {\n",
       "        vertical-align: top;\n",
       "    }\n",
       "\n",
       "    .dataframe thead th {\n",
       "        text-align: right;\n",
       "    }\n",
       "</style>\n",
       "<table border=\"1\" class=\"dataframe\">\n",
       "  <thead>\n",
       "    <tr style=\"text-align: right;\">\n",
       "      <th></th>\n",
       "      <th>movie_id</th>\n",
       "      <th>title</th>\n",
       "      <th>description</th>\n",
       "      <th>genre</th>\n",
       "    </tr>\n",
       "  </thead>\n",
       "  <tbody>\n",
       "    <tr>\n",
       "      <th>0</th>\n",
       "      <td>0</td>\n",
       "      <td>Enola Holmes 2</td>\n",
       "      <td>detective hire enola holmes takes first official case find missing girl sparks dangerous conspiracy ignite mystery requires help friends sherlock unravel</td>\n",
       "      <td>action</td>\n",
       "    </tr>\n",
       "    <tr>\n",
       "      <th>1</th>\n",
       "      <td>1</td>\n",
       "      <td>Bullet Train</td>\n",
       "      <td>five assassins aboard swiftly moving bullet train find missions something common</td>\n",
       "      <td>action</td>\n",
       "    </tr>\n",
       "    <tr>\n",
       "      <th>2</th>\n",
       "      <td>2</td>\n",
       "      <td>Everything Everywhere All at Once</td>\n",
       "      <td>aging chinese immigrant swept insane adventure alone save world exploring universes connecting lives could led</td>\n",
       "      <td>action</td>\n",
       "    </tr>\n",
       "    <tr>\n",
       "      <th>3</th>\n",
       "      <td>3</td>\n",
       "      <td>Kantara</td>\n",
       "      <td>involves culture kambla bhootha kola human nature conflict shiva rebel defends village nature death leads war villagers evil forces able regain peace village</td>\n",
       "      <td>action</td>\n",
       "    </tr>\n",
       "    <tr>\n",
       "      <th>4</th>\n",
       "      <td>4</td>\n",
       "      <td>Thor: Love and Thunder</td>\n",
       "      <td>thor enlists help valkyrie korg ex girlfriend jane foster fight gorr god butcher intends make gods extinct</td>\n",
       "      <td>action</td>\n",
       "    </tr>\n",
       "  </tbody>\n",
       "</table>\n",
       "</div>"
      ],
      "text/plain": [
       "   movie_id                              title  \\\n",
       "0         0                     Enola Holmes 2   \n",
       "1         1                       Bullet Train   \n",
       "2         2  Everything Everywhere All at Once   \n",
       "3         3                            Kantara   \n",
       "4         4             Thor: Love and Thunder   \n",
       "\n",
       "                                                                                                                                                     description  \\\n",
       "0      detective hire enola holmes takes first official case find missing girl sparks dangerous conspiracy ignite mystery requires help friends sherlock unravel   \n",
       "1                                                                               five assassins aboard swiftly moving bullet train find missions something common   \n",
       "2                                                 aging chinese immigrant swept insane adventure alone save world exploring universes connecting lives could led   \n",
       "3  involves culture kambla bhootha kola human nature conflict shiva rebel defends village nature death leads war villagers evil forces able regain peace village   \n",
       "4                                                     thor enlists help valkyrie korg ex girlfriend jane foster fight gorr god butcher intends make gods extinct   \n",
       "\n",
       "    genre  \n",
       "0  action  \n",
       "1  action  \n",
       "2  action  \n",
       "3  action  \n",
       "4  action  "
      ]
     },
     "execution_count": 41,
     "metadata": {},
     "output_type": "execute_result"
    }
   ],
   "source": [
    "df = data[['movie_id','title','description','genre']]\n",
    "df.head()"
   ]
  },
  {
   "cell_type": "code",
   "execution_count": 42,
   "id": "690c5c81",
   "metadata": {},
   "outputs": [
    {
     "data": {
      "text/html": [
       "<div>\n",
       "<style scoped>\n",
       "    .dataframe tbody tr th:only-of-type {\n",
       "        vertical-align: middle;\n",
       "    }\n",
       "\n",
       "    .dataframe tbody tr th {\n",
       "        vertical-align: top;\n",
       "    }\n",
       "\n",
       "    .dataframe thead th {\n",
       "        text-align: right;\n",
       "    }\n",
       "</style>\n",
       "<table border=\"1\" class=\"dataframe\">\n",
       "  <thead>\n",
       "    <tr style=\"text-align: right;\">\n",
       "      <th></th>\n",
       "      <th>title</th>\n",
       "      <th>description</th>\n",
       "      <th>genre</th>\n",
       "    </tr>\n",
       "  </thead>\n",
       "  <tbody>\n",
       "    <tr>\n",
       "      <th>0</th>\n",
       "      <td>'83</td>\n",
       "      <td>june lords cricket ground witnessed men beat two times world champions west indies putting india back onto cricket world stage</td>\n",
       "      <td>[biography, history]</td>\n",
       "    </tr>\n",
       "    <tr>\n",
       "      <th>1</th>\n",
       "      <td>'G' Men</td>\n",
       "      <td>james cagney helped jump start gangster genre public enemy outcries movies glorified underworld criminals put cagney side law g men</td>\n",
       "      <td>[film noir]</td>\n",
       "    </tr>\n",
       "    <tr>\n",
       "      <th>2</th>\n",
       "      <td>...All the Marbles</td>\n",
       "      <td>small timer female wrestling team california dolls manager must face hardship sport life suceed</td>\n",
       "      <td>[sport]</td>\n",
       "    </tr>\n",
       "    <tr>\n",
       "      <th>3</th>\n",
       "      <td>10 Cloverfield Lane</td>\n",
       "      <td>young woman held underground bunker man insists hostile event left surface earth uninhabitable</td>\n",
       "      <td>[thriller]</td>\n",
       "    </tr>\n",
       "    <tr>\n",
       "      <th>4</th>\n",
       "      <td>10 Things I Hate About You</td>\n",
       "      <td>pretty popular teenager cant go date ill tempered older sister</td>\n",
       "      <td>[romance]</td>\n",
       "    </tr>\n",
       "  </tbody>\n",
       "</table>\n",
       "</div>"
      ],
      "text/plain": [
       "                        title  \\\n",
       "0                         '83   \n",
       "1                     'G' Men   \n",
       "2          ...All the Marbles   \n",
       "3         10 Cloverfield Lane   \n",
       "4  10 Things I Hate About You   \n",
       "\n",
       "                                                                                                                           description  \\\n",
       "0       june lords cricket ground witnessed men beat two times world champions west indies putting india back onto cricket world stage   \n",
       "1  james cagney helped jump start gangster genre public enemy outcries movies glorified underworld criminals put cagney side law g men   \n",
       "2                                      small timer female wrestling team california dolls manager must face hardship sport life suceed   \n",
       "3                                       young woman held underground bunker man insists hostile event left surface earth uninhabitable   \n",
       "4                                                                       pretty popular teenager cant go date ill tempered older sister   \n",
       "\n",
       "                  genre  \n",
       "0  [biography, history]  \n",
       "1           [film noir]  \n",
       "2               [sport]  \n",
       "3            [thriller]  \n",
       "4             [romance]  "
      ]
     },
     "execution_count": 42,
     "metadata": {},
     "output_type": "execute_result"
    }
   ],
   "source": [
    "movie_genres = df.groupby('title')['genre'].apply(list).to_frame().reset_index()\n",
    "\n",
    "df = df[['title','description']].drop_duplicates().merge(movie_genres, how='right', on='title')\n",
    "#Drop the duplicate columns\n",
    "df.head(5)"
   ]
  },
  {
   "cell_type": "code",
   "execution_count": 43,
   "id": "b4450470",
   "metadata": {},
   "outputs": [],
   "source": [
    "from sklearn.preprocessing import MultiLabelBinarizer\n",
    "\n",
    "multilabel_binarizer = MultiLabelBinarizer()\n",
    "multilabel_binarizer.fit(df['genre'])\n",
    "\n",
    "# transform target variable\n",
    "y = multilabel_binarizer.transform(df['genre'])"
   ]
  },
  {
   "cell_type": "code",
   "execution_count": 46,
   "id": "7a145707",
   "metadata": {},
   "outputs": [],
   "source": [
    "tfidf_vectorizer = TfidfVectorizer(max_df=0.8, max_features=10000)\n",
    "# split dataset into training and validation set\n",
    "xtrain, xval, ytrain, yval = train_test_split(df['description'], y, test_size=0.2, random_state=9)"
   ]
  },
  {
   "cell_type": "code",
   "execution_count": 47,
   "id": "89a6d7c9",
   "metadata": {},
   "outputs": [],
   "source": [
    "# create TF-IDF features\n",
    "xtrain_tfidf = tfidf_vectorizer.fit_transform(xtrain)\n",
    "xval_tfidf = tfidf_vectorizer.transform(xval)"
   ]
  },
  {
   "cell_type": "code",
   "execution_count": 48,
   "id": "e673aa17",
   "metadata": {},
   "outputs": [],
   "source": [
    "from sklearn.linear_model import LogisticRegression\n",
    "\n",
    "# Binary Relevance\n",
    "from sklearn.multiclass import OneVsRestClassifier\n",
    "\n",
    "# Performance metric\n",
    "from sklearn.metrics import f1_score"
   ]
  },
  {
   "cell_type": "code",
   "execution_count": 49,
   "id": "643a8490",
   "metadata": {},
   "outputs": [],
   "source": [
    "lr = LogisticRegression()\n",
    "clf = OneVsRestClassifier(lr)\n",
    "# fit model on train data\n",
    "clf.fit(xtrain_tfidf, ytrain)\n",
    "# make predictions for validation set\n",
    "y_pred = clf.predict(xval_tfidf)"
   ]
  },
  {
   "cell_type": "code",
   "execution_count": 50,
   "id": "e66e6f13",
   "metadata": {},
   "outputs": [
    {
     "data": {
      "text/plain": [
       "array([0, 0, 0, 0, 0, 0, 0, 0, 0, 0, 0, 0, 0, 0, 0, 0, 0, 0, 0, 0, 0, 0,\n",
       "       1, 0])"
      ]
     },
     "execution_count": 50,
     "metadata": {},
     "output_type": "execute_result"
    }
   ],
   "source": [
    "y_pred[3]"
   ]
  },
  {
   "cell_type": "code",
   "execution_count": 51,
   "id": "2aa3e15c",
   "metadata": {},
   "outputs": [
    {
     "data": {
      "text/plain": [
       "('war',)"
      ]
     },
     "execution_count": 51,
     "metadata": {},
     "output_type": "execute_result"
    }
   ],
   "source": [
    "multilabel_binarizer.inverse_transform(y_pred)[3]"
   ]
  },
  {
   "cell_type": "code",
   "execution_count": 52,
   "id": "5d8cd199",
   "metadata": {},
   "outputs": [
    {
     "data": {
      "text/plain": [
       "0.0021008403361344537"
      ]
     },
     "execution_count": 52,
     "metadata": {},
     "output_type": "execute_result"
    }
   ],
   "source": [
    "# evaluate performance\n",
    "f1_score(yval, y_pred, average=\"micro\")"
   ]
  },
  {
   "cell_type": "code",
   "execution_count": 57,
   "id": "6f596f3b",
   "metadata": {},
   "outputs": [],
   "source": [
    "# predict probabilities\n",
    "y_pred_prob = clf.predict_proba(xval_tfidf)\n",
    "t = 0.1 # threshold value\n",
    "y_pred_new = (y_pred_prob >= t).astype(int)"
   ]
  },
  {
   "cell_type": "code",
   "execution_count": 58,
   "id": "e8e0ac80",
   "metadata": {},
   "outputs": [
    {
     "data": {
      "text/plain": [
       "0.2787550744248985"
      ]
     },
     "execution_count": 58,
     "metadata": {},
     "output_type": "execute_result"
    }
   ],
   "source": [
    "# evaluate performance\n",
    "f1_score(yval, y_pred_new, average=\"micro\")"
   ]
  }
 ],
 "metadata": {
  "kernelspec": {
   "display_name": "Python 3",
   "language": "python",
   "name": "python3"
  },
  "language_info": {
   "codemirror_mode": {
    "name": "ipython",
    "version": 3
   },
   "file_extension": ".py",
   "mimetype": "text/x-python",
   "name": "python",
   "nbconvert_exporter": "python",
   "pygments_lexer": "ipython3",
   "version": "3.8.8"
  }
 },
 "nbformat": 4,
 "nbformat_minor": 5
}
